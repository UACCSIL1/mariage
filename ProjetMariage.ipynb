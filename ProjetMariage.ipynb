{
 "cells": [
  {
   "cell_type": "code",
   "execution_count": 2,
   "id": "62b47be1",
   "metadata": {},
   "outputs": [],
   "source": [
    "import pandas as pd\n",
    "\n",
    "monData=pd.read_csv(r'C:\\Users\\user\\Dropbox\\Cours\\Machine learning\\Notes Cours\\Mariage\\age_of_marriage_data.csv')"
   ]
  },
  {
   "cell_type": "code",
   "execution_count": 3,
   "id": "fb03ff69",
   "metadata": {
    "scrolled": true
   },
   "outputs": [
    {
     "data": {
      "text/html": [
       "<div>\n",
       "<style scoped>\n",
       "    .dataframe tbody tr th:only-of-type {\n",
       "        vertical-align: middle;\n",
       "    }\n",
       "\n",
       "    .dataframe tbody tr th {\n",
       "        vertical-align: top;\n",
       "    }\n",
       "\n",
       "    .dataframe thead th {\n",
       "        text-align: right;\n",
       "    }\n",
       "</style>\n",
       "<table border=\"1\" class=\"dataframe\">\n",
       "  <thead>\n",
       "    <tr style=\"text-align: right;\">\n",
       "      <th></th>\n",
       "      <th>id</th>\n",
       "      <th>gender</th>\n",
       "      <th>height</th>\n",
       "      <th>religion</th>\n",
       "      <th>caste</th>\n",
       "      <th>mother_tongue</th>\n",
       "      <th>profession</th>\n",
       "      <th>location</th>\n",
       "      <th>country</th>\n",
       "      <th>age_of_marriage</th>\n",
       "    </tr>\n",
       "  </thead>\n",
       "  <tbody>\n",
       "    <tr>\n",
       "      <th>0</th>\n",
       "      <td>1</td>\n",
       "      <td>female</td>\n",
       "      <td>5'4\"</td>\n",
       "      <td>NaN</td>\n",
       "      <td>others</td>\n",
       "      <td>Telugu</td>\n",
       "      <td>NaN</td>\n",
       "      <td>London</td>\n",
       "      <td>United Kingdom</td>\n",
       "      <td>21.0</td>\n",
       "    </tr>\n",
       "    <tr>\n",
       "      <th>1</th>\n",
       "      <td>2</td>\n",
       "      <td>male</td>\n",
       "      <td>5'7\"</td>\n",
       "      <td>Jain</td>\n",
       "      <td>Shwetamber</td>\n",
       "      <td>Gujarati</td>\n",
       "      <td>Doctor / Healthcare Professional</td>\n",
       "      <td>Fairfax- VA</td>\n",
       "      <td>USA</td>\n",
       "      <td>32.0</td>\n",
       "    </tr>\n",
       "    <tr>\n",
       "      <th>2</th>\n",
       "      <td>3</td>\n",
       "      <td>male</td>\n",
       "      <td>5'7\"</td>\n",
       "      <td>Hindu</td>\n",
       "      <td>Brahmin</td>\n",
       "      <td>Hindi</td>\n",
       "      <td>Entrepreneurs / Business</td>\n",
       "      <td>Begusarai</td>\n",
       "      <td>India</td>\n",
       "      <td>32.0</td>\n",
       "    </tr>\n",
       "    <tr>\n",
       "      <th>3</th>\n",
       "      <td>4</td>\n",
       "      <td>female</td>\n",
       "      <td>5'0\"</td>\n",
       "      <td>Hindu</td>\n",
       "      <td>Thakur</td>\n",
       "      <td>Hindi</td>\n",
       "      <td>Architect</td>\n",
       "      <td>Mumbai</td>\n",
       "      <td>India</td>\n",
       "      <td>30.0</td>\n",
       "    </tr>\n",
       "    <tr>\n",
       "      <th>4</th>\n",
       "      <td>5</td>\n",
       "      <td>male</td>\n",
       "      <td>5'5\"</td>\n",
       "      <td>Christian</td>\n",
       "      <td>Born Again</td>\n",
       "      <td>Malayalam</td>\n",
       "      <td>Sales Professional / Marketing</td>\n",
       "      <td>Sulthan Bathery</td>\n",
       "      <td>India</td>\n",
       "      <td>30.0</td>\n",
       "    </tr>\n",
       "    <tr>\n",
       "      <th>...</th>\n",
       "      <td>...</td>\n",
       "      <td>...</td>\n",
       "      <td>...</td>\n",
       "      <td>...</td>\n",
       "      <td>...</td>\n",
       "      <td>...</td>\n",
       "      <td>...</td>\n",
       "      <td>...</td>\n",
       "      <td>...</td>\n",
       "      <td>...</td>\n",
       "    </tr>\n",
       "    <tr>\n",
       "      <th>2562</th>\n",
       "      <td>2563</td>\n",
       "      <td>female</td>\n",
       "      <td>5'3\"</td>\n",
       "      <td>Hindu</td>\n",
       "      <td>Thakur</td>\n",
       "      <td>Hindi</td>\n",
       "      <td>Banking Professional</td>\n",
       "      <td>Agra</td>\n",
       "      <td>India</td>\n",
       "      <td>27.0</td>\n",
       "    </tr>\n",
       "    <tr>\n",
       "      <th>2563</th>\n",
       "      <td>2564</td>\n",
       "      <td>male</td>\n",
       "      <td>5'11\"</td>\n",
       "      <td>Hindu</td>\n",
       "      <td>Thakur</td>\n",
       "      <td>Hindi</td>\n",
       "      <td>Software Professional</td>\n",
       "      <td>Ottawa</td>\n",
       "      <td>Canada</td>\n",
       "      <td>31.0</td>\n",
       "    </tr>\n",
       "    <tr>\n",
       "      <th>2564</th>\n",
       "      <td>2565</td>\n",
       "      <td>female</td>\n",
       "      <td>5'3\"</td>\n",
       "      <td>Hindu</td>\n",
       "      <td>Baishya</td>\n",
       "      <td>Bengali</td>\n",
       "      <td>Software Consultant</td>\n",
       "      <td>Bengaluru / Bangalore</td>\n",
       "      <td>India</td>\n",
       "      <td>28.0</td>\n",
       "    </tr>\n",
       "    <tr>\n",
       "      <th>2565</th>\n",
       "      <td>2566</td>\n",
       "      <td>female</td>\n",
       "      <td>4'11\"</td>\n",
       "      <td>NaN</td>\n",
       "      <td>others</td>\n",
       "      <td>Telugu</td>\n",
       "      <td>Not working</td>\n",
       "      <td>Hyderabad</td>\n",
       "      <td>India</td>\n",
       "      <td>26.0</td>\n",
       "    </tr>\n",
       "    <tr>\n",
       "      <th>2566</th>\n",
       "      <td>2567</td>\n",
       "      <td>female</td>\n",
       "      <td>5'2\"</td>\n",
       "      <td>Christian</td>\n",
       "      <td>Marthoma</td>\n",
       "      <td>Malayalam</td>\n",
       "      <td>Software Professional</td>\n",
       "      <td>Pune</td>\n",
       "      <td>India</td>\n",
       "      <td>32.0</td>\n",
       "    </tr>\n",
       "  </tbody>\n",
       "</table>\n",
       "<p>2567 rows × 10 columns</p>\n",
       "</div>"
      ],
      "text/plain": [
       "        id  gender height   religion        caste mother_tongue  \\\n",
       "0        1  female   5'4\"        NaN       others        Telugu   \n",
       "1        2    male   5'7\"       Jain   Shwetamber      Gujarati   \n",
       "2        3    male   5'7\"      Hindu      Brahmin         Hindi   \n",
       "3        4  female   5'0\"      Hindu       Thakur         Hindi   \n",
       "4        5    male   5'5\"  Christian   Born Again     Malayalam   \n",
       "...    ...     ...    ...        ...          ...           ...   \n",
       "2562  2563  female   5'3\"      Hindu       Thakur         Hindi   \n",
       "2563  2564    male  5'11\"      Hindu       Thakur         Hindi   \n",
       "2564  2565  female   5'3\"      Hindu      Baishya       Bengali   \n",
       "2565  2566  female  4'11\"        NaN       others        Telugu   \n",
       "2566  2567  female   5'2\"  Christian     Marthoma     Malayalam   \n",
       "\n",
       "                            profession               location  \\\n",
       "0                                  NaN                 London   \n",
       "1     Doctor / Healthcare Professional            Fairfax- VA   \n",
       "2            Entrepreneurs / Business               Begusarai   \n",
       "3                            Architect                 Mumbai   \n",
       "4       Sales Professional / Marketing        Sulthan Bathery   \n",
       "...                                ...                    ...   \n",
       "2562              Banking Professional                   Agra   \n",
       "2563             Software Professional                 Ottawa   \n",
       "2564               Software Consultant  Bengaluru / Bangalore   \n",
       "2565                       Not working              Hyderabad   \n",
       "2566             Software Professional                   Pune   \n",
       "\n",
       "              country  age_of_marriage  \n",
       "0      United Kingdom             21.0  \n",
       "1                 USA             32.0  \n",
       "2               India             32.0  \n",
       "3               India             30.0  \n",
       "4               India             30.0  \n",
       "...               ...              ...  \n",
       "2562            India             27.0  \n",
       "2563           Canada             31.0  \n",
       "2564            India             28.0  \n",
       "2565            India             26.0  \n",
       "2566            India             32.0  \n",
       "\n",
       "[2567 rows x 10 columns]"
      ]
     },
     "execution_count": 3,
     "metadata": {},
     "output_type": "execute_result"
    }
   ],
   "source": [
    "monData "
   ]
  },
  {
   "cell_type": "markdown",
   "id": "e4cc0514",
   "metadata": {},
   "source": [
    "# EDA"
   ]
  },
  {
   "cell_type": "code",
   "execution_count": 8,
   "id": "8a0ca66c",
   "metadata": {},
   "outputs": [
    {
     "data": {
      "text/plain": [
       "id                   0\n",
       "gender              29\n",
       "height             118\n",
       "religion           635\n",
       "caste              142\n",
       "mother_tongue      164\n",
       "profession         330\n",
       "location           155\n",
       "country             16\n",
       "age_of_marriage     19\n",
       "dtype: int64"
      ]
     },
     "execution_count": 8,
     "metadata": {},
     "output_type": "execute_result"
    }
   ],
   "source": [
    "monData.isnull().sum()"
   ]
  },
  {
   "cell_type": "code",
   "execution_count": 7,
   "id": "da556852",
   "metadata": {},
   "outputs": [
    {
     "data": {
      "text/plain": [
       "0.24737047136735488"
      ]
     },
     "execution_count": 7,
     "metadata": {},
     "output_type": "execute_result"
    }
   ],
   "source": [
    "(monData.shape[0]-monData.dropna().shape[0])/monData.shape[0]"
   ]
  },
  {
   "cell_type": "code",
   "execution_count": 6,
   "id": "fbff703c",
   "metadata": {},
   "outputs": [
    {
     "data": {
      "text/plain": [
       "1932"
      ]
     },
     "execution_count": 6,
     "metadata": {},
     "output_type": "execute_result"
    }
   ],
   "source": [
    "#monData.dropna().shape[0] 6"
   ]
  },
  {
   "cell_type": "code",
   "execution_count": 9,
   "id": "f9ce920f",
   "metadata": {},
   "outputs": [],
   "source": [
    "monData.dropna(inplace=True)"
   ]
  },
  {
   "cell_type": "code",
   "execution_count": 10,
   "id": "4fe4231a",
   "metadata": {},
   "outputs": [
    {
     "data": {
      "text/html": [
       "<div>\n",
       "<style scoped>\n",
       "    .dataframe tbody tr th:only-of-type {\n",
       "        vertical-align: middle;\n",
       "    }\n",
       "\n",
       "    .dataframe tbody tr th {\n",
       "        vertical-align: top;\n",
       "    }\n",
       "\n",
       "    .dataframe thead th {\n",
       "        text-align: right;\n",
       "    }\n",
       "</style>\n",
       "<table border=\"1\" class=\"dataframe\">\n",
       "  <thead>\n",
       "    <tr style=\"text-align: right;\">\n",
       "      <th></th>\n",
       "      <th>id</th>\n",
       "      <th>gender</th>\n",
       "      <th>height</th>\n",
       "      <th>religion</th>\n",
       "      <th>caste</th>\n",
       "      <th>mother_tongue</th>\n",
       "      <th>profession</th>\n",
       "      <th>location</th>\n",
       "      <th>country</th>\n",
       "      <th>age_of_marriage</th>\n",
       "    </tr>\n",
       "  </thead>\n",
       "  <tbody>\n",
       "    <tr>\n",
       "      <th>1</th>\n",
       "      <td>2</td>\n",
       "      <td>male</td>\n",
       "      <td>5'7\"</td>\n",
       "      <td>Jain</td>\n",
       "      <td>Shwetamber</td>\n",
       "      <td>Gujarati</td>\n",
       "      <td>Doctor / Healthcare Professional</td>\n",
       "      <td>Fairfax- VA</td>\n",
       "      <td>USA</td>\n",
       "      <td>32.0</td>\n",
       "    </tr>\n",
       "    <tr>\n",
       "      <th>2</th>\n",
       "      <td>3</td>\n",
       "      <td>male</td>\n",
       "      <td>5'7\"</td>\n",
       "      <td>Hindu</td>\n",
       "      <td>Brahmin</td>\n",
       "      <td>Hindi</td>\n",
       "      <td>Entrepreneurs / Business</td>\n",
       "      <td>Begusarai</td>\n",
       "      <td>India</td>\n",
       "      <td>32.0</td>\n",
       "    </tr>\n",
       "    <tr>\n",
       "      <th>3</th>\n",
       "      <td>4</td>\n",
       "      <td>female</td>\n",
       "      <td>5'0\"</td>\n",
       "      <td>Hindu</td>\n",
       "      <td>Thakur</td>\n",
       "      <td>Hindi</td>\n",
       "      <td>Architect</td>\n",
       "      <td>Mumbai</td>\n",
       "      <td>India</td>\n",
       "      <td>30.0</td>\n",
       "    </tr>\n",
       "    <tr>\n",
       "      <th>4</th>\n",
       "      <td>5</td>\n",
       "      <td>male</td>\n",
       "      <td>5'5\"</td>\n",
       "      <td>Christian</td>\n",
       "      <td>Born Again</td>\n",
       "      <td>Malayalam</td>\n",
       "      <td>Sales Professional / Marketing</td>\n",
       "      <td>Sulthan Bathery</td>\n",
       "      <td>India</td>\n",
       "      <td>30.0</td>\n",
       "    </tr>\n",
       "    <tr>\n",
       "      <th>5</th>\n",
       "      <td>6</td>\n",
       "      <td>male</td>\n",
       "      <td>5'5\"</td>\n",
       "      <td>Hindu</td>\n",
       "      <td>Valmiki</td>\n",
       "      <td>Hindi</td>\n",
       "      <td>Sportsman</td>\n",
       "      <td>Delhi</td>\n",
       "      <td>India</td>\n",
       "      <td>29.0</td>\n",
       "    </tr>\n",
       "    <tr>\n",
       "      <th>...</th>\n",
       "      <td>...</td>\n",
       "      <td>...</td>\n",
       "      <td>...</td>\n",
       "      <td>...</td>\n",
       "      <td>...</td>\n",
       "      <td>...</td>\n",
       "      <td>...</td>\n",
       "      <td>...</td>\n",
       "      <td>...</td>\n",
       "      <td>...</td>\n",
       "    </tr>\n",
       "    <tr>\n",
       "      <th>2561</th>\n",
       "      <td>2562</td>\n",
       "      <td>male</td>\n",
       "      <td>5'11\"</td>\n",
       "      <td>Hindu</td>\n",
       "      <td>Kshatriya</td>\n",
       "      <td>Odia</td>\n",
       "      <td>VP / AVP / GM / DGM</td>\n",
       "      <td>Mumbai</td>\n",
       "      <td>India</td>\n",
       "      <td>30.0</td>\n",
       "    </tr>\n",
       "    <tr>\n",
       "      <th>2562</th>\n",
       "      <td>2563</td>\n",
       "      <td>female</td>\n",
       "      <td>5'3\"</td>\n",
       "      <td>Hindu</td>\n",
       "      <td>Thakur</td>\n",
       "      <td>Hindi</td>\n",
       "      <td>Banking Professional</td>\n",
       "      <td>Agra</td>\n",
       "      <td>India</td>\n",
       "      <td>27.0</td>\n",
       "    </tr>\n",
       "    <tr>\n",
       "      <th>2563</th>\n",
       "      <td>2564</td>\n",
       "      <td>male</td>\n",
       "      <td>5'11\"</td>\n",
       "      <td>Hindu</td>\n",
       "      <td>Thakur</td>\n",
       "      <td>Hindi</td>\n",
       "      <td>Software Professional</td>\n",
       "      <td>Ottawa</td>\n",
       "      <td>Canada</td>\n",
       "      <td>31.0</td>\n",
       "    </tr>\n",
       "    <tr>\n",
       "      <th>2564</th>\n",
       "      <td>2565</td>\n",
       "      <td>female</td>\n",
       "      <td>5'3\"</td>\n",
       "      <td>Hindu</td>\n",
       "      <td>Baishya</td>\n",
       "      <td>Bengali</td>\n",
       "      <td>Software Consultant</td>\n",
       "      <td>Bengaluru / Bangalore</td>\n",
       "      <td>India</td>\n",
       "      <td>28.0</td>\n",
       "    </tr>\n",
       "    <tr>\n",
       "      <th>2566</th>\n",
       "      <td>2567</td>\n",
       "      <td>female</td>\n",
       "      <td>5'2\"</td>\n",
       "      <td>Christian</td>\n",
       "      <td>Marthoma</td>\n",
       "      <td>Malayalam</td>\n",
       "      <td>Software Professional</td>\n",
       "      <td>Pune</td>\n",
       "      <td>India</td>\n",
       "      <td>32.0</td>\n",
       "    </tr>\n",
       "  </tbody>\n",
       "</table>\n",
       "<p>1932 rows × 10 columns</p>\n",
       "</div>"
      ],
      "text/plain": [
       "        id  gender height   religion        caste mother_tongue  \\\n",
       "1        2    male   5'7\"       Jain   Shwetamber      Gujarati   \n",
       "2        3    male   5'7\"      Hindu      Brahmin         Hindi   \n",
       "3        4  female   5'0\"      Hindu       Thakur         Hindi   \n",
       "4        5    male   5'5\"  Christian   Born Again     Malayalam   \n",
       "5        6    male   5'5\"      Hindu      Valmiki         Hindi   \n",
       "...    ...     ...    ...        ...          ...           ...   \n",
       "2561  2562    male  5'11\"      Hindu    Kshatriya          Odia   \n",
       "2562  2563  female   5'3\"      Hindu       Thakur         Hindi   \n",
       "2563  2564    male  5'11\"      Hindu       Thakur         Hindi   \n",
       "2564  2565  female   5'3\"      Hindu      Baishya       Bengali   \n",
       "2566  2567  female   5'2\"  Christian     Marthoma     Malayalam   \n",
       "\n",
       "                            profession               location  country  \\\n",
       "1     Doctor / Healthcare Professional            Fairfax- VA      USA   \n",
       "2            Entrepreneurs / Business               Begusarai    India   \n",
       "3                            Architect                 Mumbai    India   \n",
       "4       Sales Professional / Marketing        Sulthan Bathery    India   \n",
       "5                            Sportsman                  Delhi    India   \n",
       "...                                ...                    ...      ...   \n",
       "2561               VP / AVP / GM / DGM                 Mumbai    India   \n",
       "2562              Banking Professional                   Agra    India   \n",
       "2563             Software Professional                 Ottawa   Canada   \n",
       "2564               Software Consultant  Bengaluru / Bangalore    India   \n",
       "2566             Software Professional                   Pune    India   \n",
       "\n",
       "      age_of_marriage  \n",
       "1                32.0  \n",
       "2                32.0  \n",
       "3                30.0  \n",
       "4                30.0  \n",
       "5                29.0  \n",
       "...               ...  \n",
       "2561             30.0  \n",
       "2562             27.0  \n",
       "2563             31.0  \n",
       "2564             28.0  \n",
       "2566             32.0  \n",
       "\n",
       "[1932 rows x 10 columns]"
      ]
     },
     "execution_count": 10,
     "metadata": {},
     "output_type": "execute_result"
    }
   ],
   "source": [
    "monData"
   ]
  },
  {
   "cell_type": "code",
   "execution_count": 11,
   "id": "2cb54b7d",
   "metadata": {},
   "outputs": [
    {
     "data": {
      "text/plain": [
       "id                 0\n",
       "gender             0\n",
       "height             0\n",
       "religion           0\n",
       "caste              0\n",
       "mother_tongue      0\n",
       "profession         0\n",
       "location           0\n",
       "country            0\n",
       "age_of_marriage    0\n",
       "dtype: int64"
      ]
     },
     "execution_count": 11,
     "metadata": {},
     "output_type": "execute_result"
    }
   ],
   "source": [
    "monData.isnull().sum()"
   ]
  },
  {
   "cell_type": "code",
   "execution_count": 12,
   "id": "f08347f9",
   "metadata": {},
   "outputs": [],
   "source": [
    "X=monData.loc[:,['gender','height','religion','caste','mother_tongue','country']]\n",
    "y=monData.age_of_marriage"
   ]
  },
  {
   "cell_type": "code",
   "execution_count": 19,
   "id": "d063d989",
   "metadata": {},
   "outputs": [
    {
     "data": {
      "text/html": [
       "<div>\n",
       "<style scoped>\n",
       "    .dataframe tbody tr th:only-of-type {\n",
       "        vertical-align: middle;\n",
       "    }\n",
       "\n",
       "    .dataframe tbody tr th {\n",
       "        vertical-align: top;\n",
       "    }\n",
       "\n",
       "    .dataframe thead th {\n",
       "        text-align: right;\n",
       "    }\n",
       "</style>\n",
       "<table border=\"1\" class=\"dataframe\">\n",
       "  <thead>\n",
       "    <tr style=\"text-align: right;\">\n",
       "      <th></th>\n",
       "      <th>gender</th>\n",
       "      <th>height</th>\n",
       "      <th>religion</th>\n",
       "      <th>caste</th>\n",
       "      <th>mother_tongue</th>\n",
       "      <th>country</th>\n",
       "    </tr>\n",
       "  </thead>\n",
       "  <tbody>\n",
       "    <tr>\n",
       "      <th>1</th>\n",
       "      <td>male</td>\n",
       "      <td>5'7\"</td>\n",
       "      <td>Jain</td>\n",
       "      <td>Shwetamber</td>\n",
       "      <td>Gujarati</td>\n",
       "      <td>USA</td>\n",
       "    </tr>\n",
       "    <tr>\n",
       "      <th>2</th>\n",
       "      <td>male</td>\n",
       "      <td>5'7\"</td>\n",
       "      <td>Hindu</td>\n",
       "      <td>Brahmin</td>\n",
       "      <td>Hindi</td>\n",
       "      <td>India</td>\n",
       "    </tr>\n",
       "    <tr>\n",
       "      <th>3</th>\n",
       "      <td>female</td>\n",
       "      <td>5'0\"</td>\n",
       "      <td>Hindu</td>\n",
       "      <td>Thakur</td>\n",
       "      <td>Hindi</td>\n",
       "      <td>India</td>\n",
       "    </tr>\n",
       "    <tr>\n",
       "      <th>4</th>\n",
       "      <td>male</td>\n",
       "      <td>5'5\"</td>\n",
       "      <td>Christian</td>\n",
       "      <td>Born Again</td>\n",
       "      <td>Malayalam</td>\n",
       "      <td>India</td>\n",
       "    </tr>\n",
       "    <tr>\n",
       "      <th>5</th>\n",
       "      <td>male</td>\n",
       "      <td>5'5\"</td>\n",
       "      <td>Hindu</td>\n",
       "      <td>Valmiki</td>\n",
       "      <td>Hindi</td>\n",
       "      <td>India</td>\n",
       "    </tr>\n",
       "    <tr>\n",
       "      <th>...</th>\n",
       "      <td>...</td>\n",
       "      <td>...</td>\n",
       "      <td>...</td>\n",
       "      <td>...</td>\n",
       "      <td>...</td>\n",
       "      <td>...</td>\n",
       "    </tr>\n",
       "    <tr>\n",
       "      <th>2561</th>\n",
       "      <td>male</td>\n",
       "      <td>5'11\"</td>\n",
       "      <td>Hindu</td>\n",
       "      <td>Kshatriya</td>\n",
       "      <td>Odia</td>\n",
       "      <td>India</td>\n",
       "    </tr>\n",
       "    <tr>\n",
       "      <th>2562</th>\n",
       "      <td>female</td>\n",
       "      <td>5'3\"</td>\n",
       "      <td>Hindu</td>\n",
       "      <td>Thakur</td>\n",
       "      <td>Hindi</td>\n",
       "      <td>India</td>\n",
       "    </tr>\n",
       "    <tr>\n",
       "      <th>2563</th>\n",
       "      <td>male</td>\n",
       "      <td>5'11\"</td>\n",
       "      <td>Hindu</td>\n",
       "      <td>Thakur</td>\n",
       "      <td>Hindi</td>\n",
       "      <td>Canada</td>\n",
       "    </tr>\n",
       "    <tr>\n",
       "      <th>2564</th>\n",
       "      <td>female</td>\n",
       "      <td>5'3\"</td>\n",
       "      <td>Hindu</td>\n",
       "      <td>Baishya</td>\n",
       "      <td>Bengali</td>\n",
       "      <td>India</td>\n",
       "    </tr>\n",
       "    <tr>\n",
       "      <th>2566</th>\n",
       "      <td>female</td>\n",
       "      <td>5'2\"</td>\n",
       "      <td>Christian</td>\n",
       "      <td>Marthoma</td>\n",
       "      <td>Malayalam</td>\n",
       "      <td>India</td>\n",
       "    </tr>\n",
       "  </tbody>\n",
       "</table>\n",
       "<p>1932 rows × 6 columns</p>\n",
       "</div>"
      ],
      "text/plain": [
       "      gender height   religion        caste mother_tongue  country\n",
       "1       male   5'7\"       Jain   Shwetamber      Gujarati      USA\n",
       "2       male   5'7\"      Hindu      Brahmin         Hindi    India\n",
       "3     female   5'0\"      Hindu       Thakur         Hindi    India\n",
       "4       male   5'5\"  Christian   Born Again     Malayalam    India\n",
       "5       male   5'5\"      Hindu      Valmiki         Hindi    India\n",
       "...      ...    ...        ...          ...           ...      ...\n",
       "2561    male  5'11\"      Hindu    Kshatriya          Odia    India\n",
       "2562  female   5'3\"      Hindu       Thakur         Hindi    India\n",
       "2563    male  5'11\"      Hindu       Thakur         Hindi   Canada\n",
       "2564  female   5'3\"      Hindu      Baishya       Bengali    India\n",
       "2566  female   5'2\"  Christian     Marthoma     Malayalam    India\n",
       "\n",
       "[1932 rows x 6 columns]"
      ]
     },
     "execution_count": 19,
     "metadata": {},
     "output_type": "execute_result"
    }
   ],
   "source": [
    "X"
   ]
  },
  {
   "cell_type": "markdown",
   "id": "d72932dc",
   "metadata": {},
   "source": [
    "# Pre-Traitement/Pre Processing"
   ]
  },
  {
   "cell_type": "code",
   "execution_count": 15,
   "id": "d066a636",
   "metadata": {},
   "outputs": [],
   "source": [
    "from sklearn.preprocessing import LabelEncoder"
   ]
  },
  {
   "cell_type": "code",
   "execution_count": 16,
   "id": "c967766c",
   "metadata": {},
   "outputs": [],
   "source": [
    "enc=LabelEncoder()"
   ]
  },
  {
   "cell_type": "code",
   "execution_count": 24,
   "id": "4ec703d6",
   "metadata": {},
   "outputs": [],
   "source": [
    "X.loc[:,['gender','religion','caste','mother_tongue','country']]=X.loc[:,['gender','religion','caste','mother_tongue','country']].apply(enc.fit_transform)"
   ]
  },
  {
   "cell_type": "code",
   "execution_count": 25,
   "id": "695b0c34",
   "metadata": {},
   "outputs": [
    {
     "data": {
      "text/html": [
       "<div>\n",
       "<style scoped>\n",
       "    .dataframe tbody tr th:only-of-type {\n",
       "        vertical-align: middle;\n",
       "    }\n",
       "\n",
       "    .dataframe tbody tr th {\n",
       "        vertical-align: top;\n",
       "    }\n",
       "\n",
       "    .dataframe thead th {\n",
       "        text-align: right;\n",
       "    }\n",
       "</style>\n",
       "<table border=\"1\" class=\"dataframe\">\n",
       "  <thead>\n",
       "    <tr style=\"text-align: right;\">\n",
       "      <th></th>\n",
       "      <th>gender</th>\n",
       "      <th>height</th>\n",
       "      <th>religion</th>\n",
       "      <th>caste</th>\n",
       "      <th>mother_tongue</th>\n",
       "      <th>country</th>\n",
       "    </tr>\n",
       "  </thead>\n",
       "  <tbody>\n",
       "    <tr>\n",
       "      <th>1</th>\n",
       "      <td>1</td>\n",
       "      <td>5'7\"</td>\n",
       "      <td>2</td>\n",
       "      <td>34</td>\n",
       "      <td>6</td>\n",
       "      <td>19</td>\n",
       "    </tr>\n",
       "    <tr>\n",
       "      <th>2</th>\n",
       "      <td>1</td>\n",
       "      <td>5'7\"</td>\n",
       "      <td>1</td>\n",
       "      <td>14</td>\n",
       "      <td>8</td>\n",
       "      <td>5</td>\n",
       "    </tr>\n",
       "    <tr>\n",
       "      <th>3</th>\n",
       "      <td>0</td>\n",
       "      <td>5'0\"</td>\n",
       "      <td>1</td>\n",
       "      <td>36</td>\n",
       "      <td>8</td>\n",
       "      <td>5</td>\n",
       "    </tr>\n",
       "    <tr>\n",
       "      <th>4</th>\n",
       "      <td>1</td>\n",
       "      <td>5'5\"</td>\n",
       "      <td>0</td>\n",
       "      <td>13</td>\n",
       "      <td>13</td>\n",
       "      <td>5</td>\n",
       "    </tr>\n",
       "    <tr>\n",
       "      <th>5</th>\n",
       "      <td>1</td>\n",
       "      <td>5'5\"</td>\n",
       "      <td>1</td>\n",
       "      <td>38</td>\n",
       "      <td>8</td>\n",
       "      <td>5</td>\n",
       "    </tr>\n",
       "    <tr>\n",
       "      <th>...</th>\n",
       "      <td>...</td>\n",
       "      <td>...</td>\n",
       "      <td>...</td>\n",
       "      <td>...</td>\n",
       "      <td>...</td>\n",
       "      <td>...</td>\n",
       "    </tr>\n",
       "    <tr>\n",
       "      <th>2561</th>\n",
       "      <td>1</td>\n",
       "      <td>5'11\"</td>\n",
       "      <td>1</td>\n",
       "      <td>21</td>\n",
       "      <td>18</td>\n",
       "      <td>5</td>\n",
       "    </tr>\n",
       "    <tr>\n",
       "      <th>2562</th>\n",
       "      <td>0</td>\n",
       "      <td>5'3\"</td>\n",
       "      <td>1</td>\n",
       "      <td>36</td>\n",
       "      <td>8</td>\n",
       "      <td>5</td>\n",
       "    </tr>\n",
       "    <tr>\n",
       "      <th>2563</th>\n",
       "      <td>1</td>\n",
       "      <td>5'11\"</td>\n",
       "      <td>1</td>\n",
       "      <td>36</td>\n",
       "      <td>8</td>\n",
       "      <td>3</td>\n",
       "    </tr>\n",
       "    <tr>\n",
       "      <th>2564</th>\n",
       "      <td>0</td>\n",
       "      <td>5'3\"</td>\n",
       "      <td>1</td>\n",
       "      <td>7</td>\n",
       "      <td>2</td>\n",
       "      <td>5</td>\n",
       "    </tr>\n",
       "    <tr>\n",
       "      <th>2566</th>\n",
       "      <td>0</td>\n",
       "      <td>5'2\"</td>\n",
       "      <td>0</td>\n",
       "      <td>23</td>\n",
       "      <td>13</td>\n",
       "      <td>5</td>\n",
       "    </tr>\n",
       "  </tbody>\n",
       "</table>\n",
       "<p>1932 rows × 6 columns</p>\n",
       "</div>"
      ],
      "text/plain": [
       "     gender height religion caste mother_tongue country\n",
       "1         1   5'7\"        2    34             6      19\n",
       "2         1   5'7\"        1    14             8       5\n",
       "3         0   5'0\"        1    36             8       5\n",
       "4         1   5'5\"        0    13            13       5\n",
       "5         1   5'5\"        1    38             8       5\n",
       "...     ...    ...      ...   ...           ...     ...\n",
       "2561      1  5'11\"        1    21            18       5\n",
       "2562      0   5'3\"        1    36             8       5\n",
       "2563      1  5'11\"        1    36             8       3\n",
       "2564      0   5'3\"        1     7             2       5\n",
       "2566      0   5'2\"        0    23            13       5\n",
       "\n",
       "[1932 rows x 6 columns]"
      ]
     },
     "execution_count": 25,
     "metadata": {},
     "output_type": "execute_result"
    }
   ],
   "source": [
    "X"
   ]
  },
  {
   "cell_type": "code",
   "execution_count": 42,
   "id": "a606a04a",
   "metadata": {},
   "outputs": [
    {
     "data": {
      "text/plain": [
       "152.4"
      ]
     },
     "execution_count": 42,
     "metadata": {},
     "output_type": "execute_result"
    }
   ],
   "source": [
    "int(X.loc[1,'height'].split('\\'')[0])*30.48 "
   ]
  },
  {
   "cell_type": "code",
   "execution_count": 43,
   "id": "8c42d0e8",
   "metadata": {},
   "outputs": [
    {
     "data": {
      "text/plain": [
       "17.78"
      ]
     },
     "execution_count": 43,
     "metadata": {},
     "output_type": "execute_result"
    }
   ],
   "source": [
    "int((X.loc[1,'height'].split('\\'')[1].replace('\"','')))*2.54"
   ]
  },
  {
   "cell_type": "code",
   "execution_count": 44,
   "id": "c062b8d0",
   "metadata": {},
   "outputs": [],
   "source": [
    "def poid_cm(x):\n",
    "    return int(x.split('\\'')[0])*30.48 + int(x.split('\\'')[1].replace('\"',''))*2.54"
   ]
  },
  {
   "cell_type": "code",
   "execution_count": 45,
   "id": "143757ba",
   "metadata": {},
   "outputs": [
    {
     "data": {
      "text/plain": [
       "1        5'7\"\n",
       "2        5'7\"\n",
       "3        5'0\"\n",
       "4        5'5\"\n",
       "5        5'5\"\n",
       "        ...  \n",
       "2561    5'11\"\n",
       "2562     5'3\"\n",
       "2563    5'11\"\n",
       "2564     5'3\"\n",
       "2566     5'2\"\n",
       "Name: height, Length: 1932, dtype: object"
      ]
     },
     "execution_count": 45,
     "metadata": {},
     "output_type": "execute_result"
    }
   ],
   "source": [
    "X.height"
   ]
  },
  {
   "cell_type": "code",
   "execution_count": 46,
   "id": "ac245d2b",
   "metadata": {},
   "outputs": [],
   "source": [
    "X['poid_en_cm']=X.height.apply(poid_cm)"
   ]
  },
  {
   "cell_type": "code",
   "execution_count": 47,
   "id": "cb641064",
   "metadata": {},
   "outputs": [
    {
     "data": {
      "text/html": [
       "<div>\n",
       "<style scoped>\n",
       "    .dataframe tbody tr th:only-of-type {\n",
       "        vertical-align: middle;\n",
       "    }\n",
       "\n",
       "    .dataframe tbody tr th {\n",
       "        vertical-align: top;\n",
       "    }\n",
       "\n",
       "    .dataframe thead th {\n",
       "        text-align: right;\n",
       "    }\n",
       "</style>\n",
       "<table border=\"1\" class=\"dataframe\">\n",
       "  <thead>\n",
       "    <tr style=\"text-align: right;\">\n",
       "      <th></th>\n",
       "      <th>gender</th>\n",
       "      <th>height</th>\n",
       "      <th>religion</th>\n",
       "      <th>caste</th>\n",
       "      <th>mother_tongue</th>\n",
       "      <th>country</th>\n",
       "      <th>poid_en_cm</th>\n",
       "    </tr>\n",
       "  </thead>\n",
       "  <tbody>\n",
       "    <tr>\n",
       "      <th>1</th>\n",
       "      <td>1</td>\n",
       "      <td>5'7\"</td>\n",
       "      <td>2</td>\n",
       "      <td>34</td>\n",
       "      <td>6</td>\n",
       "      <td>19</td>\n",
       "      <td>170.18</td>\n",
       "    </tr>\n",
       "    <tr>\n",
       "      <th>2</th>\n",
       "      <td>1</td>\n",
       "      <td>5'7\"</td>\n",
       "      <td>1</td>\n",
       "      <td>14</td>\n",
       "      <td>8</td>\n",
       "      <td>5</td>\n",
       "      <td>170.18</td>\n",
       "    </tr>\n",
       "    <tr>\n",
       "      <th>3</th>\n",
       "      <td>0</td>\n",
       "      <td>5'0\"</td>\n",
       "      <td>1</td>\n",
       "      <td>36</td>\n",
       "      <td>8</td>\n",
       "      <td>5</td>\n",
       "      <td>152.40</td>\n",
       "    </tr>\n",
       "    <tr>\n",
       "      <th>4</th>\n",
       "      <td>1</td>\n",
       "      <td>5'5\"</td>\n",
       "      <td>0</td>\n",
       "      <td>13</td>\n",
       "      <td>13</td>\n",
       "      <td>5</td>\n",
       "      <td>165.10</td>\n",
       "    </tr>\n",
       "    <tr>\n",
       "      <th>5</th>\n",
       "      <td>1</td>\n",
       "      <td>5'5\"</td>\n",
       "      <td>1</td>\n",
       "      <td>38</td>\n",
       "      <td>8</td>\n",
       "      <td>5</td>\n",
       "      <td>165.10</td>\n",
       "    </tr>\n",
       "    <tr>\n",
       "      <th>...</th>\n",
       "      <td>...</td>\n",
       "      <td>...</td>\n",
       "      <td>...</td>\n",
       "      <td>...</td>\n",
       "      <td>...</td>\n",
       "      <td>...</td>\n",
       "      <td>...</td>\n",
       "    </tr>\n",
       "    <tr>\n",
       "      <th>2561</th>\n",
       "      <td>1</td>\n",
       "      <td>5'11\"</td>\n",
       "      <td>1</td>\n",
       "      <td>21</td>\n",
       "      <td>18</td>\n",
       "      <td>5</td>\n",
       "      <td>180.34</td>\n",
       "    </tr>\n",
       "    <tr>\n",
       "      <th>2562</th>\n",
       "      <td>0</td>\n",
       "      <td>5'3\"</td>\n",
       "      <td>1</td>\n",
       "      <td>36</td>\n",
       "      <td>8</td>\n",
       "      <td>5</td>\n",
       "      <td>160.02</td>\n",
       "    </tr>\n",
       "    <tr>\n",
       "      <th>2563</th>\n",
       "      <td>1</td>\n",
       "      <td>5'11\"</td>\n",
       "      <td>1</td>\n",
       "      <td>36</td>\n",
       "      <td>8</td>\n",
       "      <td>3</td>\n",
       "      <td>180.34</td>\n",
       "    </tr>\n",
       "    <tr>\n",
       "      <th>2564</th>\n",
       "      <td>0</td>\n",
       "      <td>5'3\"</td>\n",
       "      <td>1</td>\n",
       "      <td>7</td>\n",
       "      <td>2</td>\n",
       "      <td>5</td>\n",
       "      <td>160.02</td>\n",
       "    </tr>\n",
       "    <tr>\n",
       "      <th>2566</th>\n",
       "      <td>0</td>\n",
       "      <td>5'2\"</td>\n",
       "      <td>0</td>\n",
       "      <td>23</td>\n",
       "      <td>13</td>\n",
       "      <td>5</td>\n",
       "      <td>157.48</td>\n",
       "    </tr>\n",
       "  </tbody>\n",
       "</table>\n",
       "<p>1932 rows × 7 columns</p>\n",
       "</div>"
      ],
      "text/plain": [
       "     gender height religion caste mother_tongue country  poid_en_cm\n",
       "1         1   5'7\"        2    34             6      19      170.18\n",
       "2         1   5'7\"        1    14             8       5      170.18\n",
       "3         0   5'0\"        1    36             8       5      152.40\n",
       "4         1   5'5\"        0    13            13       5      165.10\n",
       "5         1   5'5\"        1    38             8       5      165.10\n",
       "...     ...    ...      ...   ...           ...     ...         ...\n",
       "2561      1  5'11\"        1    21            18       5      180.34\n",
       "2562      0   5'3\"        1    36             8       5      160.02\n",
       "2563      1  5'11\"        1    36             8       3      180.34\n",
       "2564      0   5'3\"        1     7             2       5      160.02\n",
       "2566      0   5'2\"        0    23            13       5      157.48\n",
       "\n",
       "[1932 rows x 7 columns]"
      ]
     },
     "execution_count": 47,
     "metadata": {},
     "output_type": "execute_result"
    }
   ],
   "source": [
    "X"
   ]
  },
  {
   "cell_type": "code",
   "execution_count": 48,
   "id": "af2670ee",
   "metadata": {},
   "outputs": [],
   "source": [
    "X.drop('height',inplace=True,axis=1)"
   ]
  },
  {
   "cell_type": "code",
   "execution_count": 49,
   "id": "6451a80e",
   "metadata": {},
   "outputs": [
    {
     "data": {
      "text/html": [
       "<div>\n",
       "<style scoped>\n",
       "    .dataframe tbody tr th:only-of-type {\n",
       "        vertical-align: middle;\n",
       "    }\n",
       "\n",
       "    .dataframe tbody tr th {\n",
       "        vertical-align: top;\n",
       "    }\n",
       "\n",
       "    .dataframe thead th {\n",
       "        text-align: right;\n",
       "    }\n",
       "</style>\n",
       "<table border=\"1\" class=\"dataframe\">\n",
       "  <thead>\n",
       "    <tr style=\"text-align: right;\">\n",
       "      <th></th>\n",
       "      <th>gender</th>\n",
       "      <th>religion</th>\n",
       "      <th>caste</th>\n",
       "      <th>mother_tongue</th>\n",
       "      <th>country</th>\n",
       "      <th>poid_en_cm</th>\n",
       "    </tr>\n",
       "  </thead>\n",
       "  <tbody>\n",
       "    <tr>\n",
       "      <th>1</th>\n",
       "      <td>1</td>\n",
       "      <td>2</td>\n",
       "      <td>34</td>\n",
       "      <td>6</td>\n",
       "      <td>19</td>\n",
       "      <td>170.18</td>\n",
       "    </tr>\n",
       "    <tr>\n",
       "      <th>2</th>\n",
       "      <td>1</td>\n",
       "      <td>1</td>\n",
       "      <td>14</td>\n",
       "      <td>8</td>\n",
       "      <td>5</td>\n",
       "      <td>170.18</td>\n",
       "    </tr>\n",
       "    <tr>\n",
       "      <th>3</th>\n",
       "      <td>0</td>\n",
       "      <td>1</td>\n",
       "      <td>36</td>\n",
       "      <td>8</td>\n",
       "      <td>5</td>\n",
       "      <td>152.40</td>\n",
       "    </tr>\n",
       "    <tr>\n",
       "      <th>4</th>\n",
       "      <td>1</td>\n",
       "      <td>0</td>\n",
       "      <td>13</td>\n",
       "      <td>13</td>\n",
       "      <td>5</td>\n",
       "      <td>165.10</td>\n",
       "    </tr>\n",
       "    <tr>\n",
       "      <th>5</th>\n",
       "      <td>1</td>\n",
       "      <td>1</td>\n",
       "      <td>38</td>\n",
       "      <td>8</td>\n",
       "      <td>5</td>\n",
       "      <td>165.10</td>\n",
       "    </tr>\n",
       "    <tr>\n",
       "      <th>...</th>\n",
       "      <td>...</td>\n",
       "      <td>...</td>\n",
       "      <td>...</td>\n",
       "      <td>...</td>\n",
       "      <td>...</td>\n",
       "      <td>...</td>\n",
       "    </tr>\n",
       "    <tr>\n",
       "      <th>2561</th>\n",
       "      <td>1</td>\n",
       "      <td>1</td>\n",
       "      <td>21</td>\n",
       "      <td>18</td>\n",
       "      <td>5</td>\n",
       "      <td>180.34</td>\n",
       "    </tr>\n",
       "    <tr>\n",
       "      <th>2562</th>\n",
       "      <td>0</td>\n",
       "      <td>1</td>\n",
       "      <td>36</td>\n",
       "      <td>8</td>\n",
       "      <td>5</td>\n",
       "      <td>160.02</td>\n",
       "    </tr>\n",
       "    <tr>\n",
       "      <th>2563</th>\n",
       "      <td>1</td>\n",
       "      <td>1</td>\n",
       "      <td>36</td>\n",
       "      <td>8</td>\n",
       "      <td>3</td>\n",
       "      <td>180.34</td>\n",
       "    </tr>\n",
       "    <tr>\n",
       "      <th>2564</th>\n",
       "      <td>0</td>\n",
       "      <td>1</td>\n",
       "      <td>7</td>\n",
       "      <td>2</td>\n",
       "      <td>5</td>\n",
       "      <td>160.02</td>\n",
       "    </tr>\n",
       "    <tr>\n",
       "      <th>2566</th>\n",
       "      <td>0</td>\n",
       "      <td>0</td>\n",
       "      <td>23</td>\n",
       "      <td>13</td>\n",
       "      <td>5</td>\n",
       "      <td>157.48</td>\n",
       "    </tr>\n",
       "  </tbody>\n",
       "</table>\n",
       "<p>1932 rows × 6 columns</p>\n",
       "</div>"
      ],
      "text/plain": [
       "     gender religion caste mother_tongue country  poid_en_cm\n",
       "1         1        2    34             6      19      170.18\n",
       "2         1        1    14             8       5      170.18\n",
       "3         0        1    36             8       5      152.40\n",
       "4         1        0    13            13       5      165.10\n",
       "5         1        1    38             8       5      165.10\n",
       "...     ...      ...   ...           ...     ...         ...\n",
       "2561      1        1    21            18       5      180.34\n",
       "2562      0        1    36             8       5      160.02\n",
       "2563      1        1    36             8       3      180.34\n",
       "2564      0        1     7             2       5      160.02\n",
       "2566      0        0    23            13       5      157.48\n",
       "\n",
       "[1932 rows x 6 columns]"
      ]
     },
     "execution_count": 49,
     "metadata": {},
     "output_type": "execute_result"
    }
   ],
   "source": [
    "X"
   ]
  },
  {
   "cell_type": "markdown",
   "id": "633b92e4",
   "metadata": {},
   "source": [
    "# Entrainement du modele"
   ]
  },
  {
   "cell_type": "code",
   "execution_count": 50,
   "id": "ae24a78b",
   "metadata": {},
   "outputs": [],
   "source": [
    "from sklearn.model_selection import train_test_split"
   ]
  },
  {
   "cell_type": "code",
   "execution_count": 51,
   "id": "8b1c6772",
   "metadata": {},
   "outputs": [],
   "source": [
    "X_train,X_test,y_train,y_test=train_test_split(X,y,test_size=0.2,random_state=0)"
   ]
  },
  {
   "cell_type": "code",
   "execution_count": 52,
   "id": "16686b83",
   "metadata": {},
   "outputs": [],
   "source": [
    "from sklearn.ensemble import RandomForestRegressor"
   ]
  },
  {
   "cell_type": "code",
   "execution_count": 53,
   "id": "9789335a",
   "metadata": {},
   "outputs": [],
   "source": [
    "model=RandomForestRegressor(n_estimators=80,max_depth=11)"
   ]
  },
  {
   "cell_type": "code",
   "execution_count": 54,
   "id": "76e44ea6",
   "metadata": {},
   "outputs": [
    {
     "data": {
      "text/plain": [
       "RandomForestRegressor(max_depth=11, n_estimators=80)"
      ]
     },
     "execution_count": 54,
     "metadata": {},
     "output_type": "execute_result"
    }
   ],
   "source": [
    "model.fit(X_train,y_train)"
   ]
  },
  {
   "cell_type": "code",
   "execution_count": 55,
   "id": "2b2a68f1",
   "metadata": {},
   "outputs": [],
   "source": [
    "y_predict=model.predict(X_test)"
   ]
  },
  {
   "cell_type": "code",
   "execution_count": 56,
   "id": "e99bd042",
   "metadata": {},
   "outputs": [],
   "source": [
    "from sklearn.metrics import mean_absolute_error, r2_score"
   ]
  },
  {
   "cell_type": "code",
   "execution_count": 57,
   "id": "7c41c4c3",
   "metadata": {},
   "outputs": [
    {
     "name": "stdout",
     "output_type": "stream",
     "text": [
      "MAE:  1.032425233222532\n",
      "r2_score: 0.6995082023322541\n"
     ]
    }
   ],
   "source": [
    "print('MAE: ', mean_absolute_error(y_test,y_predict))\n",
    "print('r2_score:',r2_score(y_test,y_predict))"
   ]
  },
  {
   "cell_type": "code",
   "execution_count": 59,
   "id": "3cf8cfb3",
   "metadata": {},
   "outputs": [
    {
     "data": {
      "text/plain": [
       "0.6995082023322541"
      ]
     },
     "execution_count": 59,
     "metadata": {},
     "output_type": "execute_result"
    }
   ],
   "source": [
    "model.score(X_test,y_test)"
   ]
  },
  {
   "cell_type": "markdown",
   "id": "fb358255",
   "metadata": {},
   "source": [
    "# Exportation du modele"
   ]
  },
  {
   "cell_type": "code",
   "execution_count": 60,
   "id": "d8ccbc44",
   "metadata": {},
   "outputs": [],
   "source": [
    "import joblib"
   ]
  },
  {
   "cell_type": "code",
   "execution_count": 61,
   "id": "67df2452",
   "metadata": {},
   "outputs": [
    {
     "data": {
      "text/plain": [
       "['ModelTDCSIL1.ml']"
      ]
     },
     "execution_count": 61,
     "metadata": {},
     "output_type": "execute_result"
    }
   ],
   "source": [
    "joblib.dump(model,'ModelTDCSIL1.ml')"
   ]
  },
  {
   "cell_type": "code",
   "execution_count": 101,
   "id": "283dacc7",
   "metadata": {},
   "outputs": [],
   "source": [
    "import numpy as np\n",
    "model=joblib.load('ModelTDCSIL1.ml')\n",
    "list1=[1990,156,0,3,8,2,40]\n",
    "int_features=[float(i) for i in list1]\n",
    "final_features=(int_features) \n",
    "indexDateNaissance=[1,2,3,4,5,6]\n",
    "dateNaissance=np.delete(final_features,indexDateNaissance)\n",
    "dateNaissance=dateNaissance[0]"
   ]
  },
  {
   "cell_type": "code",
   "execution_count": 102,
   "id": "6d80d6f2",
   "metadata": {},
   "outputs": [
    {
     "data": {
      "text/plain": [
       "1990.0"
      ]
     },
     "execution_count": 102,
     "metadata": {},
     "output_type": "execute_result"
    }
   ],
   "source": [
    "dateNaissance"
   ]
  },
  {
   "cell_type": "code",
   "execution_count": 103,
   "id": "85bda1b6",
   "metadata": {},
   "outputs": [],
   "source": [
    "AnneIndex=0\n",
    "features_model=np.delete(final_features,AnneIndex)\n",
    "features_model=np.array([features_model]).reshape(1,6)"
   ]
  },
  {
   "cell_type": "code",
   "execution_count": 104,
   "id": "80d59393",
   "metadata": {},
   "outputs": [],
   "source": [
    "prediction=model.predict(features_model)"
   ]
  },
  {
   "cell_type": "code",
   "execution_count": 105,
   "id": "4c931774",
   "metadata": {},
   "outputs": [
    {
     "data": {
      "text/plain": [
       "array([33.04692041])"
      ]
     },
     "execution_count": 105,
     "metadata": {},
     "output_type": "execute_result"
    }
   ],
   "source": [
    "prediction"
   ]
  },
  {
   "cell_type": "code",
   "execution_count": 106,
   "id": "685c7f7a",
   "metadata": {},
   "outputs": [
    {
     "data": {
      "text/plain": [
       "33.0"
      ]
     },
     "execution_count": 106,
     "metadata": {},
     "output_type": "execute_result"
    }
   ],
   "source": [
    "Agepredit=round(prediction[0],1)\n",
    "Agepredit"
   ]
  },
  {
   "cell_type": "code",
   "execution_count": 95,
   "id": "9871fad6",
   "metadata": {},
   "outputs": [
    {
     "data": {
      "text/plain": [
       "33"
      ]
     },
     "execution_count": 95,
     "metadata": {},
     "output_type": "execute_result"
    }
   ],
   "source": [
    "import math\n",
    "\n",
    "x=math.ceil(Agepredit)\n",
    "x"
   ]
  },
  {
   "cell_type": "code",
   "execution_count": null,
   "id": "f38a9fa7",
   "metadata": {},
   "outputs": [],
   "source": []
  }
 ],
 "metadata": {
  "kernelspec": {
   "display_name": "Python 3",
   "language": "python",
   "name": "python3"
  },
  "language_info": {
   "codemirror_mode": {
    "name": "ipython",
    "version": 3
   },
   "file_extension": ".py",
   "mimetype": "text/x-python",
   "name": "python",
   "nbconvert_exporter": "python",
   "pygments_lexer": "ipython3",
   "version": "3.8.8"
  }
 },
 "nbformat": 4,
 "nbformat_minor": 5
}
